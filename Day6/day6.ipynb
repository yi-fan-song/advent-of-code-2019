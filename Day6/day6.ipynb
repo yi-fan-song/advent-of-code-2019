{
 "cells": [
  {
   "cell_type": "code",
   "execution_count": 1,
   "metadata": {},
   "outputs": [],
   "source": [
    "import math"
   ]
  },
  {
   "cell_type": "code",
   "execution_count": 2,
   "metadata": {},
   "outputs": [],
   "source": [
    "class Tree(object):\n",
    "    \"Generic tree node.\"\n",
    "    def __init__(self, name='root', children=None):\n",
    "        self.name = name\n",
    "        self.children = []\n",
    "        self.parent = None\n",
    "        self.parentsCount = 0\n",
    "        if children is not None:\n",
    "            for child in children:\n",
    "                self.add_child(child)\n",
    "                \n",
    "    def __repr__(self):\n",
    "        return self.name + \" orbits: \" + str(self.parentsCount)\n",
    "    \n",
    "    def add_child(self, node):\n",
    "        assert isinstance(node, Tree)\n",
    "        node.parent = self\n",
    "        node.parentsCount = node.parent.parentsCount + 1\n",
    "        self.children.append(node)\n",
    "        \n",
    "    def traverseAndPrint(self):\n",
    "        print(self)\n",
    "        for c in self.children:\n",
    "            c.traverseAndPrint\n",
    "            \n",
    "    def traverseUpAndPrint(self):\n",
    "        print(self.name)\n",
    "        if self.parent is not None:\n",
    "            self.parent.traverseUpAndPrint()\n",
    "            \n",
    "    def getTotalParents(self, count = 0):\n",
    "        if self.parent is not None:\n",
    "            return self.parent.getTotalParents(count + 1)\n",
    "        return count\n",
    "    \n",
    "    def find(self, name):\n",
    "        if self.name == name:\n",
    "            return self\n",
    "        for c in self.children:\n",
    "            nxt = c.find(name)\n",
    "            if nxt is not None:\n",
    "                return nxt\n",
    "                    \n",
    "    def depth(self, depth = 0):\n",
    "        if self.parent is not None:\n",
    "            return self.parent.depth(depth + 1)\n",
    "        return depth\n",
    "    \n",
    "    def getChildFromMap(self, m):\n",
    "        nxt = [Tree(p[1]) for p in m if p[0] == self.name]\n",
    "        for p in nxt:\n",
    "            self.add_child(p)\n",
    "            #print(\"child: \", self.children)\n",
    "        for c in self.children:\n",
    "            c.getChildFromMap(m)\n",
    "        \n",
    "    def getOrbitCounts(self):\n",
    "        self.totalOrbits = 0\n",
    "        def aggregateOrbits(n):\n",
    "            self.totalOrbits += n.getTotalParents()\n",
    "            for c in n.children:\n",
    "                aggregateOrbits(c)\n",
    "        aggregateOrbits(self)\n",
    "        return self.totalOrbits\n",
    "        "
   ]
  },
  {
   "cell_type": "code",
   "execution_count": 3,
   "metadata": {
    "scrolled": true
   },
   "outputs": [],
   "source": [
    "tree = Tree('*', [Tree('1'),\n",
    "               Tree('2'),\n",
    "               Tree('+', [Tree('3'),\n",
    "                          Tree('4')])])"
   ]
  },
  {
   "cell_type": "code",
   "execution_count": 4,
   "metadata": {},
   "outputs": [
    {
     "name": "stdout",
     "output_type": "stream",
     "text": [
      "2\n"
     ]
    }
   ],
   "source": [
    "print(tree.find('4').depth())"
   ]
  },
  {
   "cell_type": "code",
   "execution_count": 5,
   "metadata": {
    "scrolled": false
   },
   "outputs": [],
   "source": [
    "file = open(\"input.txt\", \"r\")\n",
    "\n",
    "content = file.read()\n",
    "content = content.split('\\n')\n",
    "content = [each.split(')') for each in content]\n",
    "\n",
    "content.pop(-1)\n",
    "\n",
    "copy = content.copy()\n",
    "\n",
    "#print(content)"
   ]
  },
  {
   "cell_type": "code",
   "execution_count": 6,
   "metadata": {},
   "outputs": [],
   "source": [
    "def LCA(root, n1, n2):\n",
    "    foundLCA = None\n",
    "    \n",
    "    for c in root.children:\n",
    "        lca = LCA(c, n1, n2)\n",
    "        if lca is not None:\n",
    "            foundLCA = lca\n",
    "            \n",
    "    if foundLCA is not None:\n",
    "        return foundLCA\n",
    "            \n",
    "    if root.find(n1) is not None and root.find(n2) is not None:\n",
    "        return root\n",
    "    return None\n",
    "\n",
    "def distance(root, n1, n2):\n",
    "    lca = LCA(root, n1, n2)\n",
    "    node1 = root.find(n1)\n",
    "    node2 = root.find(n2)\n",
    "    \n",
    "    dist = node1.depth() + node2.depth() - 2 * lca.depth()\n",
    "    return dist"
   ]
  },
  {
   "cell_type": "code",
   "execution_count": 7,
   "metadata": {
    "scrolled": false
   },
   "outputs": [
    {
     "name": "stdout",
     "output_type": "stream",
     "text": [
      "249308\n",
      "349\n"
     ]
    }
   ],
   "source": [
    "content = copy.copy()\n",
    "\n",
    "t = Tree('COM')\n",
    "t.getChildFromMap(content)\n",
    "    \n",
    "#print(t, t.children)\n",
    "#t.traverse()\n",
    "print(t.getOrbitCounts())\n",
    "#print(t.findDistance('SAN'), -2)\n",
    "print(distance(t, 'YOU', 'SAN') - 2)"
   ]
  },
  {
   "cell_type": "code",
   "execution_count": null,
   "metadata": {},
   "outputs": [],
   "source": []
  },
  {
   "cell_type": "code",
   "execution_count": null,
   "metadata": {},
   "outputs": [],
   "source": []
  }
 ],
 "metadata": {
  "kernelspec": {
   "display_name": "Python 3",
   "language": "python",
   "name": "python3"
  },
  "language_info": {
   "codemirror_mode": {
    "name": "ipython",
    "version": 3
   },
   "file_extension": ".py",
   "mimetype": "text/x-python",
   "name": "python",
   "nbconvert_exporter": "python",
   "pygments_lexer": "ipython3",
   "version": "3.7.4"
  }
 },
 "nbformat": 4,
 "nbformat_minor": 2
}
