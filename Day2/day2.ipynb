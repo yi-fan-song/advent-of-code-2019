{
 "cells": [
  {
   "cell_type": "code",
   "execution_count": 1,
   "metadata": {},
   "outputs": [],
   "source": [
    "import math"
   ]
  },
  {
   "cell_type": "code",
   "execution_count": 2,
   "metadata": {},
   "outputs": [],
   "source": [
    "file = open(\"input.txt\", \"r\")\n",
    "\n",
    "content = file.read()"
   ]
  },
  {
   "cell_type": "code",
   "execution_count": 3,
   "metadata": {
    "scrolled": true
   },
   "outputs": [
    {
     "name": "stdout",
     "output_type": "stream",
     "text": [
      "1,0,0,3,1,1,2,3,1,3,4,3,1,5,0,3,2,1,6,19,1,5,19,23,1,23,6,27,1,5,27,31,1,31,6,35,1,9,35,39,2,10,39,43,1,43,6,47,2,6,47,51,1,5,51,55,1,55,13,59,1,59,10,63,2,10,63,67,1,9,67,71,2,6,71,75,1,5,75,79,2,79,13,83,1,83,5,87,1,87,9,91,1,5,91,95,1,5,95,99,1,99,13,103,1,10,103,107,1,107,9,111,1,6,111,115,2,115,13,119,1,10,119,123,2,123,6,127,1,5,127,131,1,5,131,135,1,135,6,139,2,139,10,143,2,143,9,147,1,147,6,151,1,151,13,155,2,155,9,159,1,6,159,163,1,5,163,167,1,5,167,171,1,10,171,175,1,13,175,179,1,179,2,183,1,9,183,0,99,2,14,0,0\n",
      "\n"
     ]
    }
   ],
   "source": [
    "print(content)"
   ]
  },
  {
   "cell_type": "code",
   "execution_count": 4,
   "metadata": {
    "scrolled": false
   },
   "outputs": [
    {
     "name": "stdout",
     "output_type": "stream",
     "text": [
      "[1, 12, 2, 3, 1, 1, 2, 3, 1, 3, 4, 3, 1, 5, 0, 3, 2, 1, 6, 19, 1, 5, 19, 23, 1, 23, 6, 27, 1, 5, 27, 31, 1, 31, 6, 35, 1, 9, 35, 39, 2, 10, 39, 43, 1, 43, 6, 47, 2, 6, 47, 51, 1, 5, 51, 55, 1, 55, 13, 59, 1, 59, 10, 63, 2, 10, 63, 67, 1, 9, 67, 71, 2, 6, 71, 75, 1, 5, 75, 79, 2, 79, 13, 83, 1, 83, 5, 87, 1, 87, 9, 91, 1, 5, 91, 95, 1, 5, 95, 99, 1, 99, 13, 103, 1, 10, 103, 107, 1, 107, 9, 111, 1, 6, 111, 115, 2, 115, 13, 119, 1, 10, 119, 123, 2, 123, 6, 127, 1, 5, 127, 131, 1, 5, 131, 135, 1, 135, 6, 139, 2, 139, 10, 143, 2, 143, 9, 147, 1, 147, 6, 151, 1, 151, 13, 155, 2, 155, 9, 159, 1, 6, 159, 163, 1, 5, 163, 167, 1, 5, 167, 171, 1, 10, 171, 175, 1, 13, 175, 179, 1, 179, 2, 183, 1, 9, 183, 0, 99, 2, 14, 0, 0]\n"
     ]
    }
   ],
   "source": [
    "content = content.split(',')\n",
    "content = [int(each.replace('\\n', '')) for each in content]\n",
    "\n",
    "content[1] = 12\n",
    "content[2] = 2\n",
    "print(content)"
   ]
  },
  {
   "cell_type": "code",
   "execution_count": 5,
   "metadata": {},
   "outputs": [],
   "source": [
    "for i in range(0, len(content), 4):\n",
    "    if content[i] == 1:\n",
    "        content[content[i+3]] = content[content[i+1]] + content[content[i+2]]\n",
    "    elif content[i] == 2:\n",
    "        content[content[i+3]] = content[content[i+1]] * content[content[i+2]]\n",
    "    else:\n",
    "        break"
   ]
  },
  {
   "cell_type": "code",
   "execution_count": 6,
   "metadata": {},
   "outputs": [
    {
     "name": "stdout",
     "output_type": "stream",
     "text": [
      "[4023471, 12, 2, 2, 1, 1, 2, 3, 1, 3, 4, 3, 1, 5, 0, 3, 2, 1, 6, 24, 1, 5, 19, 25, 1, 23, 6, 27, 1, 5, 27, 28, 1, 31, 6, 30, 1, 9, 35, 33, 2, 10, 39, 132, 1, 43, 6, 134, 2, 6, 47, 268, 1, 5, 51, 269, 1, 55, 13, 274, 1, 59, 10, 278, 2, 10, 63, 1112, 1, 9, 67, 1115, 2, 6, 71, 2230, 1, 5, 75, 2231, 2, 79, 13, 11155, 1, 83, 5, 11156, 1, 87, 9, 11159, 1, 5, 91, 11160, 1, 5, 95, 11161, 1, 99, 13, 11166, 1, 10, 103, 11170, 1, 107, 9, 11173, 1, 6, 111, 11175, 2, 115, 13, 55875, 1, 10, 119, 55879, 2, 123, 6, 111758, 1, 5, 127, 111759, 1, 5, 131, 111760, 1, 135, 6, 111762, 2, 139, 10, 447048, 2, 143, 9, 1341144, 1, 147, 6, 1341146, 1, 151, 13, 1341151, 2, 155, 9, 4023453, 1, 6, 159, 4023455, 1, 5, 163, 4023456, 1, 5, 167, 4023457, 1, 10, 171, 4023461, 1, 13, 175, 4023466, 1, 179, 2, 4023468, 1, 9, 183, 0, 99, 2, 14, 0, 0]\n"
     ]
    }
   ],
   "source": [
    "print(content)"
   ]
  },
  {
   "cell_type": "code",
   "execution_count": 7,
   "metadata": {},
   "outputs": [
    {
     "name": "stdout",
     "output_type": "stream",
     "text": [
      "[1, 0, 0, 3, 1, 1, 2, 3, 1, 3, 4, 3, 1, 5, 0, 3, 2, 1, 6, 19, 1, 5, 19, 23, 1, 23, 6, 27, 1, 5, 27, 31, 1, 31, 6, 35, 1, 9, 35, 39, 2, 10, 39, 43, 1, 43, 6, 47, 2, 6, 47, 51, 1, 5, 51, 55, 1, 55, 13, 59, 1, 59, 10, 63, 2, 10, 63, 67, 1, 9, 67, 71, 2, 6, 71, 75, 1, 5, 75, 79, 2, 79, 13, 83, 1, 83, 5, 87, 1, 87, 9, 91, 1, 5, 91, 95, 1, 5, 95, 99, 1, 99, 13, 103, 1, 10, 103, 107, 1, 107, 9, 111, 1, 6, 111, 115, 2, 115, 13, 119, 1, 10, 119, 123, 2, 123, 6, 127, 1, 5, 127, 131, 1, 5, 131, 135, 1, 135, 6, 139, 2, 139, 10, 143, 2, 143, 9, 147, 1, 147, 6, 151, 1, 151, 13, 155, 2, 155, 9, 159, 1, 6, 159, 163, 1, 5, 163, 167, 1, 5, 167, 171, 1, 10, 171, 175, 1, 13, 175, 179, 1, 179, 2, 183, 1, 9, 183, 0, 99, 2, 14, 0, 0]\n"
     ]
    }
   ],
   "source": [
    "expectedResult = 19690720\n",
    "\n",
    "file = open(\"input.txt\", \"r\")\n",
    "\n",
    "content = file.read()\n",
    "\n",
    "\n",
    "content = content.split(',')\n",
    "content = [int(each.replace('\\n', '')) for each in content]\n",
    "\n",
    "copy = content.copy()\n",
    "\n",
    "print(content)"
   ]
  },
  {
   "cell_type": "code",
   "execution_count": 8,
   "metadata": {},
   "outputs": [],
   "source": [
    "def intCodeRun(code):\n",
    "    for i in range(0, len(code), 4):\n",
    "        if code[i] == 1:\n",
    "            code[code[i+3]] = code[code[i+1]] + code[code[i+2]]\n",
    "        elif code[i] == 2:\n",
    "            code[code[i+3]] = code[code[i+1]] * code[code[i+2]]\n",
    "        else:\n",
    "            break"
   ]
  },
  {
   "cell_type": "code",
   "execution_count": 10,
   "metadata": {},
   "outputs": [
    {
     "name": "stdout",
     "output_type": "stream",
     "text": [
      "8051\n"
     ]
    }
   ],
   "source": [
    "content = copy.copy()\n",
    "for x in range(0, 100):\n",
    "    for y in range(0, 100):\n",
    "        content[1] = x\n",
    "        content[2] = y\n",
    "        intCodeRun(content)\n",
    "        if content[0] == expectedResult:\n",
    "            break;\n",
    "        content = copy.copy()\n",
    "    if content[0] == expectedResult:\n",
    "        break;\n",
    "        \n",
    "print(100 * content[1] + content[2])"
   ]
  },
  {
   "cell_type": "code",
   "execution_count": null,
   "metadata": {},
   "outputs": [],
   "source": []
  }
 ],
 "metadata": {
  "kernelspec": {
   "display_name": "Python 3",
   "language": "python",
   "name": "python3"
  },
  "language_info": {
   "codemirror_mode": {
    "name": "ipython",
    "version": 3
   },
   "file_extension": ".py",
   "mimetype": "text/x-python",
   "name": "python",
   "nbconvert_exporter": "python",
   "pygments_lexer": "ipython3",
   "version": "3.7.4"
  }
 },
 "nbformat": 4,
 "nbformat_minor": 2
}
