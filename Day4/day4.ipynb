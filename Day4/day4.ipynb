{
 "cells": [
  {
   "cell_type": "code",
   "execution_count": 1,
   "metadata": {},
   "outputs": [],
   "source": [
    "import math"
   ]
  },
  {
   "cell_type": "code",
   "execution_count": 2,
   "metadata": {},
   "outputs": [
    {
     "name": "stdout",
     "output_type": "stream",
     "text": [
      "('172851', '675869')\n"
     ]
    }
   ],
   "source": [
    "inpt = \"172851-675869\"\n",
    "inpt = tuple(inpt.split('-'))\n",
    "\n",
    "print(inpt)"
   ]
  },
  {
   "cell_type": "code",
   "execution_count": 3,
   "metadata": {},
   "outputs": [],
   "source": [
    "def get0s(index):\n",
    "    res = \"\"\n",
    "    for i in range(5 - index):\n",
    "        res += \"0\"\n",
    "    return res\n",
    "\n",
    "def isValid(code):\n",
    "    hasDouble = False\n",
    "    for i in range(5):\n",
    "        if int(code[i]) > int(code[i + 1]):\n",
    "            code = code[:i + 1] + code[i] + get0s(i + 1)\n",
    "            code = int(code)\n",
    "            return (False, code)\n",
    "        if code[i] == code[i + 1]:\n",
    "            hasDouble = True\n",
    "    return (hasDouble, int(code) + 1)"
   ]
  },
  {
   "cell_type": "code",
   "execution_count": 4,
   "metadata": {},
   "outputs": [
    {
     "data": {
      "text/plain": [
       "(True, 111112)"
      ]
     },
     "execution_count": 4,
     "metadata": {},
     "output_type": "execute_result"
    }
   ],
   "source": [
    "isValid(str(111111))"
   ]
  },
  {
   "cell_type": "code",
   "execution_count": 5,
   "metadata": {
    "scrolled": true
   },
   "outputs": [
    {
     "name": "stdout",
     "output_type": "stream",
     "text": [
      "1660\n"
     ]
    }
   ],
   "source": [
    "validCount = 0\n",
    "validSet = set()\n",
    "i = int(inpt[0])\n",
    "\n",
    "while i <= int(inpt[1]):\n",
    "    i = str(i)\n",
    "    valid, nxt = isValid(i)\n",
    "    if valid:\n",
    "        validSet.add(i)\n",
    "    i = nxt\n",
    "    validCount += int(valid)\n",
    "        \n",
    "    \n",
    "print(validCount)"
   ]
  },
  {
   "cell_type": "code",
   "execution_count": 14,
   "metadata": {},
   "outputs": [],
   "source": [
    "def isValid2(code):\n",
    "    hasDouble = False\n",
    "    for i in range(5):\n",
    "        if int(code[i]) > int(code[i + 1]):\n",
    "            code = code[:i + 1] + code[i] + get0s(i + 1)\n",
    "            code = int(code)\n",
    "            return (False, code)\n",
    "        if code[i] == code[i + 1]:\n",
    "            if (i == 0 or code[i] != code[i-1]) and (i + 2 == len(code) or code[i] != code[i + 2]):\n",
    "                hasDouble = True\n",
    "    return (hasDouble, int(code) + 1)"
   ]
  },
  {
   "cell_type": "code",
   "execution_count": 12,
   "metadata": {},
   "outputs": [
    {
     "name": "stdout",
     "output_type": "stream",
     "text": [
      "0\n",
      "1\n",
      "3\n",
      "4\n"
     ]
    },
    {
     "data": {
      "text/plain": [
       "6"
      ]
     },
     "execution_count": 12,
     "metadata": {},
     "output_type": "execute_result"
    }
   ],
   "source": [
    "isValid2(\"111222\")\n",
    "len(\"111222\")"
   ]
  },
  {
   "cell_type": "code",
   "execution_count": 15,
   "metadata": {},
   "outputs": [
    {
     "name": "stdout",
     "output_type": "stream",
     "text": [
      "1135\n"
     ]
    }
   ],
   "source": [
    "validCount = 0\n",
    "validSet = set()\n",
    "i = int(inpt[0])\n",
    "\n",
    "while i <= int(inpt[1]):\n",
    "    i = str(i)\n",
    "    valid, nxt = isValid2(i)\n",
    "    if valid:\n",
    "        validSet.add(i)\n",
    "    i = nxt\n",
    "    validCount += int(valid)\n",
    "        \n",
    "    \n",
    "print(validCount)"
   ]
  },
  {
   "cell_type": "code",
   "execution_count": null,
   "metadata": {},
   "outputs": [],
   "source": []
  }
 ],
 "metadata": {
  "kernelspec": {
   "display_name": "Python 3",
   "language": "python",
   "name": "python3"
  },
  "language_info": {
   "codemirror_mode": {
    "name": "ipython",
    "version": 3
   },
   "file_extension": ".py",
   "mimetype": "text/x-python",
   "name": "python",
   "nbconvert_exporter": "python",
   "pygments_lexer": "ipython3",
   "version": "3.7.4"
  }
 },
 "nbformat": 4,
 "nbformat_minor": 2
}
